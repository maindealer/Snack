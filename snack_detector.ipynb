{
 "cells": [
  {
   "cell_type": "markdown",
   "metadata": {},
   "source": [
    "# 1. 라이브러리 설치"
   ]
  },
  {
   "cell_type": "code",
   "execution_count": 1,
   "metadata": {},
   "outputs": [
    {
     "name": "stdout",
     "output_type": "stream",
     "text": [
      "Requirement already satisfied: ultralytics in c:\\users\\owner\\anaconda3\\lib\\site-packages (8.3.21)\n",
      "Requirement already satisfied: numpy>=1.23.0 in c:\\users\\owner\\anaconda3\\lib\\site-packages (from ultralytics) (1.26.4)\n",
      "Requirement already satisfied: matplotlib>=3.3.0 in c:\\users\\owner\\anaconda3\\lib\\site-packages (from ultralytics) (3.8.4)\n",
      "Requirement already satisfied: opencv-python>=4.6.0 in c:\\users\\owner\\anaconda3\\lib\\site-packages (from ultralytics) (4.10.0.84)\n",
      "Requirement already satisfied: pillow>=7.1.2 in c:\\users\\owner\\anaconda3\\lib\\site-packages (from ultralytics) (10.3.0)\n",
      "Requirement already satisfied: pyyaml>=5.3.1 in c:\\users\\owner\\anaconda3\\lib\\site-packages (from ultralytics) (6.0.1)\n",
      "Requirement already satisfied: requests>=2.23.0 in c:\\users\\owner\\anaconda3\\lib\\site-packages (from ultralytics) (2.32.2)\n",
      "Requirement already satisfied: scipy>=1.4.1 in c:\\users\\owner\\anaconda3\\lib\\site-packages (from ultralytics) (1.13.1)\n",
      "Requirement already satisfied: torch>=1.8.0 in c:\\users\\owner\\anaconda3\\lib\\site-packages (from ultralytics) (2.4.1)\n",
      "Requirement already satisfied: torchvision>=0.9.0 in c:\\users\\owner\\anaconda3\\lib\\site-packages (from ultralytics) (0.19.1)\n",
      "Requirement already satisfied: tqdm>=4.64.0 in c:\\users\\owner\\anaconda3\\lib\\site-packages (from ultralytics) (4.66.4)\n",
      "Requirement already satisfied: psutil in c:\\users\\owner\\anaconda3\\lib\\site-packages (from ultralytics) (6.0.0)\n",
      "Requirement already satisfied: py-cpuinfo in c:\\users\\owner\\anaconda3\\lib\\site-packages (from ultralytics) (9.0.0)\n",
      "Requirement already satisfied: pandas>=1.1.4 in c:\\users\\owner\\anaconda3\\lib\\site-packages (from ultralytics) (2.2.2)\n",
      "Requirement already satisfied: seaborn>=0.11.0 in c:\\users\\owner\\anaconda3\\lib\\site-packages (from ultralytics) (0.13.2)\n",
      "Requirement already satisfied: ultralytics-thop>=2.0.0 in c:\\users\\owner\\anaconda3\\lib\\site-packages (from ultralytics) (2.0.9)\n",
      "Requirement already satisfied: contourpy>=1.0.1 in c:\\users\\owner\\anaconda3\\lib\\site-packages (from matplotlib>=3.3.0->ultralytics) (1.2.0)\n",
      "Requirement already satisfied: cycler>=0.10 in c:\\users\\owner\\anaconda3\\lib\\site-packages (from matplotlib>=3.3.0->ultralytics) (0.11.0)\n",
      "Requirement already satisfied: fonttools>=4.22.0 in c:\\users\\owner\\anaconda3\\lib\\site-packages (from matplotlib>=3.3.0->ultralytics) (4.51.0)\n",
      "Requirement already satisfied: kiwisolver>=1.3.1 in c:\\users\\owner\\anaconda3\\lib\\site-packages (from matplotlib>=3.3.0->ultralytics) (1.4.4)\n",
      "Requirement already satisfied: packaging>=20.0 in c:\\users\\owner\\anaconda3\\lib\\site-packages (from matplotlib>=3.3.0->ultralytics) (24.1)\n",
      "Requirement already satisfied: pyparsing>=2.3.1 in c:\\users\\owner\\anaconda3\\lib\\site-packages (from matplotlib>=3.3.0->ultralytics) (3.0.9)\n",
      "Requirement already satisfied: python-dateutil>=2.7 in c:\\users\\owner\\anaconda3\\lib\\site-packages (from matplotlib>=3.3.0->ultralytics) (2.9.0.post0)\n",
      "Requirement already satisfied: pytz>=2020.1 in c:\\users\\owner\\anaconda3\\lib\\site-packages (from pandas>=1.1.4->ultralytics) (2024.1)\n",
      "Requirement already satisfied: tzdata>=2022.7 in c:\\users\\owner\\anaconda3\\lib\\site-packages (from pandas>=1.1.4->ultralytics) (2023.3)\n",
      "Requirement already satisfied: charset-normalizer<4,>=2 in c:\\users\\owner\\anaconda3\\lib\\site-packages (from requests>=2.23.0->ultralytics) (2.0.4)\n",
      "Requirement already satisfied: idna<4,>=2.5 in c:\\users\\owner\\anaconda3\\lib\\site-packages (from requests>=2.23.0->ultralytics) (2.10)\n",
      "Requirement already satisfied: urllib3<3,>=1.21.1 in c:\\users\\owner\\anaconda3\\lib\\site-packages (from requests>=2.23.0->ultralytics) (2.2.2)\n",
      "Requirement already satisfied: certifi>=2017.4.17 in c:\\users\\owner\\anaconda3\\lib\\site-packages (from requests>=2.23.0->ultralytics) (2024.7.4)\n",
      "Requirement already satisfied: filelock in c:\\users\\owner\\anaconda3\\lib\\site-packages (from torch>=1.8.0->ultralytics) (3.13.1)\n",
      "Requirement already satisfied: typing-extensions>=4.8.0 in c:\\users\\owner\\anaconda3\\lib\\site-packages (from torch>=1.8.0->ultralytics) (4.11.0)\n",
      "Requirement already satisfied: sympy in c:\\users\\owner\\anaconda3\\lib\\site-packages (from torch>=1.8.0->ultralytics) (1.12)\n",
      "Requirement already satisfied: networkx in c:\\users\\owner\\anaconda3\\lib\\site-packages (from torch>=1.8.0->ultralytics) (3.2.1)\n",
      "Requirement already satisfied: jinja2 in c:\\users\\owner\\anaconda3\\lib\\site-packages (from torch>=1.8.0->ultralytics) (3.1.4)\n",
      "Requirement already satisfied: fsspec in c:\\users\\owner\\anaconda3\\lib\\site-packages (from torch>=1.8.0->ultralytics) (2024.3.1)\n",
      "Requirement already satisfied: setuptools in c:\\users\\owner\\anaconda3\\lib\\site-packages (from torch>=1.8.0->ultralytics) (70.3.0)\n",
      "Requirement already satisfied: colorama in c:\\users\\owner\\anaconda3\\lib\\site-packages (from tqdm>=4.64.0->ultralytics) (0.4.6)\n",
      "Requirement already satisfied: six>=1.5 in c:\\users\\owner\\anaconda3\\lib\\site-packages (from python-dateutil>=2.7->matplotlib>=3.3.0->ultralytics) (1.16.0)\n",
      "Requirement already satisfied: MarkupSafe>=2.0 in c:\\users\\owner\\anaconda3\\lib\\site-packages (from jinja2->torch>=1.8.0->ultralytics) (2.1.3)\n",
      "Requirement already satisfied: mpmath>=0.19 in c:\\users\\owner\\anaconda3\\lib\\site-packages (from sympy->torch>=1.8.0->ultralytics) (1.3.0)\n",
      "Note: you may need to restart the kernel to use updated packages.\n"
     ]
    }
   ],
   "source": [
    "%pip install ultralytics"
   ]
  },
  {
   "cell_type": "markdown",
   "metadata": {},
   "source": [
    "# 2. 클래스 자동 추출 및 XML 변환, 데이터 분할"
   ]
  },
  {
   "cell_type": "code",
   "execution_count": 5,
   "metadata": {},
   "outputs": [
    {
     "name": "stdout",
     "output_type": "stream",
     "text": [
      "클래스 목록: {'해태포키블루베리41G': 0, '꼬깔콘고소한맛72G': 1, '농심오징어집83G': 2, '농심매운새우깡90G': 3, '크라운)콘초66G': 4, '농심바나나킥75G': 5, '롯데)자일리톨베타비타D용기86G': 6}\n",
      "XML to YOLO 변환 및 데이터 분할 완료!\n"
     ]
    }
   ],
   "source": [
    "import os\n",
    "import xml.etree.ElementTree as ET\n",
    "import shutil\n",
    "import random\n",
    "from pathlib import Path\n",
    "\n",
    "# 프로젝트 루트 디렉토리 (현재 노트북 파일이 위치한 곳)\n",
    "project_root = Path.cwd()\n",
    "\n",
    "# 데이터셋 폴더 경로 (상대 경로 사용)\n",
    "xml_folder = project_root / 'New_sample' / '라벨링데이터'\n",
    "image_folder = project_root / 'New_sample' / '원천데이터'\n",
    "dataset_folder = project_root / 'dataset'\n",
    "labels_all = dataset_folder / 'labels_all'  # 모든 라벨을 저장할 폴더\n",
    "labels_train = dataset_folder / 'labels' / 'train'\n",
    "labels_val = dataset_folder / 'labels' / 'val'\n",
    "images_train = dataset_folder / 'images' / 'train'\n",
    "images_val = dataset_folder / 'images' / 'val'\n",
    "\n",
    "# 데이터셋 폴더 생성\n",
    "for folder in [labels_all, labels_train, labels_val, images_train, images_val]:\n",
    "    folder.mkdir(parents=True, exist_ok=True)\n",
    "\n",
    "# 클래스 이름 자동 추출 (원천데이터 폴더의 하위 폴더 이름 사용)\n",
    "# 폴더 이름에서 클래스 이름만 추출 (예: '10060_해태포키블루베리41G' -> '해태포키블루베리41G')\n",
    "classes_full = sorted([folder.name for folder in image_folder.iterdir() if folder.is_dir()])\n",
    "classes = [cls.split('_', 1)[1] if '_' in cls else cls for cls in classes_full]\n",
    "class_map = {cls: idx for idx, cls in enumerate(classes)}\n",
    "\n",
    "print(\"클래스 목록:\", class_map)\n",
    "\n",
    "def convert_xml_to_yolo(xml_folder, image_folder, label_folder, class_map):\n",
    "    for xml_file in xml_folder.rglob('*.xml'):\n",
    "        if '_meta' in xml_file.name:\n",
    "            continue  # meta.xml 파일 무시\n",
    "\n",
    "        try:\n",
    "            tree = ET.parse(xml_file)\n",
    "            root = tree.getroot()\n",
    "\n",
    "            filename = root.find('filename').text\n",
    "            # 이미지 파일 경로\n",
    "            image_path = image_folder / root.find('filename').text\n",
    "\n",
    "            # 이미지 크기 가져오기\n",
    "            size = root.find('size')\n",
    "            width = float(size.find('width').text)\n",
    "            height = float(size.find('height').text)\n",
    "\n",
    "            yolo_labels = []\n",
    "\n",
    "            for obj in root.findall('object'):\n",
    "                cls_name = obj.find('name').text\n",
    "                if cls_name not in class_map:\n",
    "                    print(f\"클래스 '{cls_name}'가 class_map에 없습니다. 무시합니다.\")\n",
    "                    continue  # 정의되지 않은 클래스 무시\n",
    "                cls_id = class_map[cls_name]\n",
    "\n",
    "                bndbox = obj.find('bndbox')\n",
    "                xmin = float(bndbox.find('xmin').text)\n",
    "                ymin = float(bndbox.find('ymin').text)\n",
    "                xmax = float(bndbox.find('xmax').text)\n",
    "                ymax = float(bndbox.find('ymax').text)\n",
    "\n",
    "                # YOLO 좌표 계산 (정규화)\n",
    "                x_center = ((xmin + xmax) / 2) / width\n",
    "                y_center = ((ymin + ymax) / 2) / height\n",
    "                box_width = (xmax - xmin) / width\n",
    "                box_height = (ymax - ymin) / height\n",
    "\n",
    "                yolo_labels.append(f\"{cls_id} {x_center:.6f} {y_center:.6f} {box_width:.6f} {box_height:.6f}\")\n",
    "\n",
    "            # YOLO 라벨 파일 저장\n",
    "            label_filename = os.path.splitext(filename)[0] + '.txt'\n",
    "            label_path = label_folder / label_filename\n",
    "            with open(label_path, 'w') as f:\n",
    "                for label in yolo_labels:\n",
    "                    f.write(label + '\\n')\n",
    "        except ET.ParseError as e:\n",
    "            print(f\"XML 파싱 오류: {xml_file} - {e}\")\n",
    "\n",
    "def split_dataset(image_folder, label_folder_all, output_image_train, output_image_val, output_label_train, output_label_val, split_ratio=0.8):\n",
    "    images = sorted([f for f in image_folder.glob('**/*') if f.is_file() and f.suffix.lower() in ['.jpg', '.jpeg', '.png', '.bmp']])\n",
    "    random.shuffle(images)\n",
    "    split_idx = int(len(images) * split_ratio)\n",
    "    train_images = images[:split_idx]\n",
    "    val_images = images[split_idx:]\n",
    "\n",
    "    for img_path in train_images:\n",
    "        relative_path = img_path.relative_to(image_folder)\n",
    "        destination_img_path = output_image_train / relative_path.name\n",
    "        destination_label_path = output_label_train / (relative_path.stem + '.txt')\n",
    "        shutil.copy(img_path, destination_img_path)\n",
    "        label_src = label_folder_all / (relative_path.stem + '.txt')\n",
    "        if label_src.exists():\n",
    "            shutil.copy(label_src, destination_label_path)\n",
    "        else:\n",
    "            print(f\"라벨 파일이 존재하지 않습니다: {label_src}\")\n",
    "\n",
    "    for img_path in val_images:\n",
    "        relative_path = img_path.relative_to(image_folder)\n",
    "        destination_img_path = output_image_val / relative_path.name\n",
    "        destination_label_path = output_label_val / (relative_path.stem + '.txt')\n",
    "        shutil.copy(img_path, destination_img_path)\n",
    "        label_src = label_folder_all / (relative_path.stem + '.txt')\n",
    "        if label_src.exists():\n",
    "            shutil.copy(label_src, destination_label_path)\n",
    "        else:\n",
    "            print(f\"라벨 파일이 존재하지 않습니다: {label_src}\")\n",
    "\n",
    "# XML을 YOLO 형식으로 변환하여 labels_all 폴더에 저장\n",
    "convert_xml_to_yolo(xml_folder, image_folder, labels_all, class_map)\n",
    "\n",
    "# 데이터 분할 (훈련:검증 = 80:20)\n",
    "split_dataset(image_folder, labels_all, images_train, images_val, labels_train, labels_val, split_ratio=0.8)\n",
    "\n",
    "print(\"XML to YOLO 변환 및 데이터 분할 완료!\")\n"
   ]
  },
  {
   "cell_type": "markdown",
   "metadata": {},
   "source": [
    "# a"
   ]
  },
  {
   "cell_type": "code",
   "execution_count": 2,
   "metadata": {},
   "outputs": [
    {
     "name": "stdout",
     "output_type": "stream",
     "text": [
      "labels_all 폴더 내 파일 수: 798\n",
      "몇 개의 라벨 파일 예시:\n",
      "10060_0_m_1.txt\n",
      "10060_0_m_10.txt\n",
      "10060_0_m_11.txt\n",
      "10060_0_m_12.txt\n",
      "10060_0_m_13.txt\n"
     ]
    }
   ],
   "source": [
    "from pathlib import Path\n",
    "\n",
    "labels_all = Path('dataset/labels_all')\n",
    "\n",
    "print(f\"labels_all 폴더 내 파일 수: {len(list(labels_all.glob('*.txt')))}\")\n",
    "print(\"몇 개의 라벨 파일 예시:\")\n",
    "for label_file in list(labels_all.glob('*.txt'))[:5]:\n",
    "    print(label_file.name)\n"
   ]
  },
  {
   "cell_type": "markdown",
   "metadata": {},
   "source": [
    "# b"
   ]
  },
  {
   "cell_type": "code",
   "execution_count": 3,
   "metadata": {},
   "outputs": [
    {
     "name": "stdout",
     "output_type": "stream",
     "text": [
      "labels/train 폴더 내 파일 수: 760\n",
      "labels/val 폴더 내 파일 수: 282\n",
      "labels/train 폴더의 일부 파일:\n",
      "10060_0_m_1.txt\n",
      "10060_0_m_10.txt\n",
      "10060_0_m_11.txt\n",
      "10060_0_m_13.txt\n",
      "10060_0_m_14.txt\n",
      "labels/val 폴더의 일부 파일:\n",
      "10060_0_m_1.txt\n",
      "10060_0_m_10.txt\n",
      "10060_0_m_11.txt\n",
      "10060_0_m_12.txt\n",
      "10060_0_m_13.txt\n"
     ]
    }
   ],
   "source": [
    "labels_train = Path('dataset/labels/train')\n",
    "labels_val = Path('dataset/labels/val')\n",
    "\n",
    "print(f\"labels/train 폴더 내 파일 수: {len(list(labels_train.glob('*.txt')))}\")\n",
    "print(f\"labels/val 폴더 내 파일 수: {len(list(labels_val.glob('*.txt')))}\")\n",
    "\n",
    "print(\"labels/train 폴더의 일부 파일:\")\n",
    "for label_file in list(labels_train.glob('*.txt'))[:5]:\n",
    "    print(label_file.name)\n",
    "\n",
    "print(\"labels/val 폴더의 일부 파일:\")\n",
    "for label_file in list(labels_val.glob('*.txt'))[:5]:\n",
    "    print(label_file.name)\n"
   ]
  },
  {
   "cell_type": "markdown",
   "metadata": {},
   "source": [
    "# c"
   ]
  },
  {
   "cell_type": "code",
   "execution_count": 4,
   "metadata": {},
   "outputs": [
    {
     "name": "stdout",
     "output_type": "stream",
     "text": [
      "10060_0_m_1.txt 내용:\n",
      "\n"
     ]
    }
   ],
   "source": [
    "sample_label = labels_train / '10060_0_m_1.txt'\n",
    "if sample_label.exists():\n",
    "    with open(sample_label, 'r') as f:\n",
    "        content = f.read()\n",
    "    print(f\"{sample_label.name} 내용:\\n{content}\")\n",
    "else:\n",
    "    print(f\"{sample_label.name} 파일이 존재하지 않습니다.\")\n"
   ]
  },
  {
   "cell_type": "markdown",
   "metadata": {},
   "source": [
    "# 3. 데이터 구성 파일 작성 (dataset.yaml)"
   ]
  },
  {
   "cell_type": "code",
   "execution_count": 6,
   "metadata": {},
   "outputs": [
    {
     "name": "stdout",
     "output_type": "stream",
     "text": [
      "dataset.yaml 파일 생성 완료!\n"
     ]
    }
   ],
   "source": [
    "import yaml\n",
    "\n",
    "# dataset.yaml 파일 내용 생성\n",
    "dataset_yaml = {\n",
    "    'path': str(dataset_folder.resolve()),  # dataset 폴더의 절대 경로\n",
    "    'train': 'images/train',\n",
    "    'val': 'images/val',\n",
    "    'nc': len(classes),  # 클래스 수\n",
    "    'names': classes  # 클래스 이름 리스트\n",
    "}\n",
    "\n",
    "# dataset.yaml 파일 저장\n",
    "with open(project_root / 'dataset.yaml', 'w') as file:\n",
    "    yaml.dump(dataset_yaml, file)\n",
    "\n",
    "print(\"dataset.yaml 파일 생성 완료!\")\n"
   ]
  },
  {
   "cell_type": "markdown",
   "metadata": {},
   "source": [
    "# 4. YOLOv8 모델 학습"
   ]
  },
  {
   "cell_type": "code",
   "execution_count": 7,
   "metadata": {},
   "outputs": [
    {
     "name": "stdout",
     "output_type": "stream",
     "text": [
      "New https://pypi.org/project/ultralytics/8.3.22 available  Update with 'pip install -U ultralytics'\n",
      "Ultralytics 8.3.21  Python-3.12.3 torch-2.4.1+cpu CPU (Intel Core(TM) i7-9750H 2.60GHz)\n",
      "\u001b[34m\u001b[1mengine\\trainer: \u001b[0mtask=detect, mode=train, model=yolov8n.pt, data=dataset.yaml, epochs=50, time=None, patience=100, batch=16, imgsz=640, save=True, save_period=-1, cache=False, device=None, workers=8, project=None, name=train3, exist_ok=False, pretrained=True, optimizer=auto, verbose=True, seed=0, deterministic=True, single_cls=False, rect=False, cos_lr=False, close_mosaic=10, resume=False, amp=True, fraction=1.0, profile=False, freeze=None, multi_scale=False, overlap_mask=True, mask_ratio=4, dropout=0.0, val=True, split=val, save_json=False, save_hybrid=False, conf=None, iou=0.7, max_det=300, half=False, dnn=False, plots=True, source=None, vid_stride=1, stream_buffer=False, visualize=False, augment=False, agnostic_nms=False, classes=None, retina_masks=False, embed=None, show=False, save_frames=False, save_txt=False, save_conf=False, save_crop=False, show_labels=True, show_conf=True, show_boxes=True, line_width=None, format=torchscript, keras=False, optimize=False, int8=False, dynamic=False, simplify=True, opset=None, workspace=4, nms=False, lr0=0.01, lrf=0.01, momentum=0.937, weight_decay=0.0005, warmup_epochs=3.0, warmup_momentum=0.8, warmup_bias_lr=0.1, box=7.5, cls=0.5, dfl=1.5, pose=12.0, kobj=1.0, label_smoothing=0.0, nbs=64, hsv_h=0.015, hsv_s=0.7, hsv_v=0.4, degrees=0.0, translate=0.1, scale=0.5, shear=0.0, perspective=0.0, flipud=0.0, fliplr=0.5, bgr=0.0, mosaic=1.0, mixup=0.0, copy_paste=0.0, copy_paste_mode=flip, auto_augment=randaugment, erasing=0.4, crop_fraction=1.0, cfg=None, tracker=botsort.yaml, save_dir=runs\\detect\\train3\n",
      "Overriding model.yaml nc=80 with nc=7\n",
      "\n",
      "                   from  n    params  module                                       arguments                     \n",
      "  0                  -1  1       464  ultralytics.nn.modules.conv.Conv             [3, 16, 3, 2]                 \n",
      "  1                  -1  1      4672  ultralytics.nn.modules.conv.Conv             [16, 32, 3, 2]                \n",
      "  2                  -1  1      7360  ultralytics.nn.modules.block.C2f             [32, 32, 1, True]             \n",
      "  3                  -1  1     18560  ultralytics.nn.modules.conv.Conv             [32, 64, 3, 2]                \n",
      "  4                  -1  2     49664  ultralytics.nn.modules.block.C2f             [64, 64, 2, True]             \n",
      "  5                  -1  1     73984  ultralytics.nn.modules.conv.Conv             [64, 128, 3, 2]               \n",
      "  6                  -1  2    197632  ultralytics.nn.modules.block.C2f             [128, 128, 2, True]           \n",
      "  7                  -1  1    295424  ultralytics.nn.modules.conv.Conv             [128, 256, 3, 2]              \n",
      "  8                  -1  1    460288  ultralytics.nn.modules.block.C2f             [256, 256, 1, True]           \n",
      "  9                  -1  1    164608  ultralytics.nn.modules.block.SPPF            [256, 256, 5]                 \n",
      " 10                  -1  1         0  torch.nn.modules.upsampling.Upsample         [None, 2, 'nearest']          \n",
      " 11             [-1, 6]  1         0  ultralytics.nn.modules.conv.Concat           [1]                           \n",
      " 12                  -1  1    148224  ultralytics.nn.modules.block.C2f             [384, 128, 1]                 \n",
      " 13                  -1  1         0  torch.nn.modules.upsampling.Upsample         [None, 2, 'nearest']          \n",
      " 14             [-1, 4]  1         0  ultralytics.nn.modules.conv.Concat           [1]                           \n",
      " 15                  -1  1     37248  ultralytics.nn.modules.block.C2f             [192, 64, 1]                  \n",
      " 16                  -1  1     36992  ultralytics.nn.modules.conv.Conv             [64, 64, 3, 2]                \n",
      " 17            [-1, 12]  1         0  ultralytics.nn.modules.conv.Concat           [1]                           \n",
      " 18                  -1  1    123648  ultralytics.nn.modules.block.C2f             [192, 128, 1]                 \n",
      " 19                  -1  1    147712  ultralytics.nn.modules.conv.Conv             [128, 128, 3, 2]              \n",
      " 20             [-1, 9]  1         0  ultralytics.nn.modules.conv.Concat           [1]                           \n",
      " 21                  -1  1    493056  ultralytics.nn.modules.block.C2f             [384, 256, 1]                 \n",
      " 22        [15, 18, 21]  1    752677  ultralytics.nn.modules.head.Detect           [7, [64, 128, 256]]           \n",
      "Model summary: 225 layers, 3,012,213 parameters, 3,012,197 gradients, 8.2 GFLOPs\n",
      "\n",
      "Transferred 319/355 items from pretrained weights\n",
      "\u001b[34m\u001b[1mTensorBoard: \u001b[0mWARNING  TensorBoard not initialized correctly, not logging this run. runs\\detect\\train3 is not a directory\n",
      "Freezing layer 'model.22.dfl.conv.weight'\n"
     ]
    },
    {
     "name": "stderr",
     "output_type": "stream",
     "text": [
      "\u001b[34m\u001b[1mtrain: \u001b[0mScanning C:\\Users\\Owner\\OneDrive\\바탕 화면\\workspace\\Snack\\dataset\\labels\\train... 630 images, 111 backgrounds, 2 corrupt: 100%|██████████| 632/632 [00:00<00:00, 1596.19it/s]"
     ]
    },
    {
     "name": "stdout",
     "output_type": "stream",
     "text": [
      "\u001b[34m\u001b[1mtrain: \u001b[0mWARNING  C:\\Users\\Owner\\OneDrive\\ \\workspace\\Snack\\dataset\\images\\train\\10091_60_s_18.jpg: ignoring corrupt image/label: [Errno 2] No such file or directory: 'C:\\\\Users\\\\Owner\\\\OneDrive\\\\ \\\\workspace\\\\Snack\\\\dataset\\\\images\\\\train\\\\10091_60_s_18.jpg'\n",
      "\u001b[34m\u001b[1mtrain: \u001b[0mWARNING  C:\\Users\\Owner\\OneDrive\\ \\workspace\\Snack\\dataset\\images\\train\\10091_60_s_19.jpg: ignoring corrupt image/label: cannot identify image file 'C:\\\\Users\\\\Owner\\\\OneDrive\\\\ \\\\workspace\\\\Snack\\\\dataset\\\\images\\\\train\\\\10091_60_s_19.jpg'\n"
     ]
    },
    {
     "name": "stderr",
     "output_type": "stream",
     "text": [
      "\n"
     ]
    },
    {
     "name": "stdout",
     "output_type": "stream",
     "text": [
      "\u001b[34m\u001b[1mtrain: \u001b[0mNew cache created: C:\\Users\\Owner\\OneDrive\\ \\workspace\\Snack\\dataset\\labels\\train.cache\n"
     ]
    },
    {
     "name": "stderr",
     "output_type": "stream",
     "text": [
      "\u001b[34m\u001b[1mval: \u001b[0mScanning C:\\Users\\Owner\\OneDrive\\바탕 화면\\workspace\\Snack\\dataset\\labels\\val... 376 images, 216 backgrounds, 0 corrupt: 100%|██████████| 376/376 [00:00<00:00, 1803.85it/s]\n"
     ]
    },
    {
     "name": "stdout",
     "output_type": "stream",
     "text": [
      "\u001b[34m\u001b[1mval: \u001b[0mNew cache created: C:\\Users\\Owner\\OneDrive\\ \\workspace\\Snack\\dataset\\labels\\val.cache\n",
      "Plotting labels to runs\\detect\\train3\\labels.jpg... \n"
     ]
    },
    {
     "ename": "",
     "evalue": "",
     "output_type": "error",
     "traceback": [
      "\u001b[1;31m현재 셀 또는 이전 셀에서 코드를 실행하는 동안 Kernel이 충돌했습니다. \n",
      "\u001b[1;31m셀의 코드를 검토하여 가능한 오류 원인을 식별하세요. \n",
      "\u001b[1;31m자세한 내용을 보려면 <a href='https://aka.ms/vscodeJupyterKernelCrash'>여기</a>를 클릭하세요. \n",
      "\u001b[1;31m자세한 내용은 Jupyter <a href='command:jupyter.viewOutput'>로그</a>를 참조하세요."
     ]
    }
   ],
   "source": [
    "from ultralytics import YOLO\n",
    "\n",
    "# 모델 로드 (YOLOv8n: 경량 모델)\n",
    "model = YOLO('yolov8n.pt')  # yolov8n.pt, yolov8s.pt, yolov8m.pt 등으로 변경 가능\n",
    "\n",
    "# 모델 학습\n",
    "model.train(data='dataset.yaml', epochs=50, imgsz=640)\n"
   ]
  },
  {
   "cell_type": "markdown",
   "metadata": {},
   "source": [
    "# 모델 검증"
   ]
  },
  {
   "cell_type": "code",
   "execution_count": null,
   "metadata": {},
   "outputs": [],
   "source": [
    "# 모델 검증\n",
    "results = model.val()\n",
    "print(results)\n"
   ]
  },
  {
   "cell_type": "markdown",
   "metadata": {},
   "source": [
    "# 5. 학습된 모델 검증 및 사용"
   ]
  },
  {
   "cell_type": "code",
   "execution_count": null,
   "metadata": {},
   "outputs": [],
   "source": [
    "# 모델 검증\n",
    "results = model.val()\n",
    "print(results)\n",
    "\n",
    "# 예측 수행할 이미지 폴더 경로 (상대 경로 사용)\n",
    "test_images = image_folder / '10060_해태포키블루베리41G'  # 예시: 특정 클래스 폴더\n",
    "\n",
    "# 객체 감지 수행\n",
    "results = model.predict(source=str(test_images), save=True)  # save=True: 결과 이미지 저장\n",
    "\n",
    "# 결과 확인\n",
    "for r in results:\n",
    "    r.plot()  # 결과 이미지 표시\n"
   ]
  },
  {
   "cell_type": "markdown",
   "metadata": {},
   "source": [
    "# 객체 감지 실행"
   ]
  },
  {
   "cell_type": "code",
   "execution_count": null,
   "metadata": {},
   "outputs": [],
   "source": [
    "# 예측 수행할 이미지 폴더 경로 (상대 경로 사용)\n",
    "test_images = image_folder / '10060_해태포키블루베리41G'  # 예시: 특정 클래스 폴더\n",
    "\n",
    "# 객체 감지 수행\n",
    "results = model.predict(source=str(test_images), save=True)  # save=True: 결과 이미지 저장\n",
    "\n",
    "# 결과 확인\n",
    "for r in results:\n",
    "    r.plot()  # 결과 이미지 표시\n"
   ]
  }
 ],
 "metadata": {
  "kernelspec": {
   "display_name": "base",
   "language": "python",
   "name": "python3"
  },
  "language_info": {
   "codemirror_mode": {
    "name": "ipython",
    "version": 3
   },
   "file_extension": ".py",
   "mimetype": "text/x-python",
   "name": "python",
   "nbconvert_exporter": "python",
   "pygments_lexer": "ipython3",
   "version": "3.12.3"
  }
 },
 "nbformat": 4,
 "nbformat_minor": 2
}
